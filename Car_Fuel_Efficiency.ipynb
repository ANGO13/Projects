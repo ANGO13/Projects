{
 "cells": [
  {
   "cell_type": "code",
   "execution_count": 1,
   "metadata": {},
   "outputs": [],
   "source": [
    "import pandas as pd\n",
    "import seaborn as sns\n",
    "import matplotlib.pyplot as plt\n",
    "import matplotlib_inline\n",
    "import numpy as np"
   ]
  },
  {
   "cell_type": "code",
   "execution_count": 6,
   "metadata": {},
   "outputs": [],
   "source": [
    "from sklearn.impute import SimpleImputer\n",
    "from sklearn.model_selection import train_test_split\n",
    "from sklearn.preprocessing import StandardScaler\n",
    "from sklearn.ensemble import RandomForestClassifier\n",
    "from catboost import CatBoostClassifier\n",
    "from sklearn.ensemble import AdaBoostClassifier\n",
    "from sklearn.tree import DecisionTreeClassifier\n",
    "from sklearn.ensemble import GradientBoostingClassifier\n",
    "from sklearn.metrics import accuracy_score, classification_report, confusion_matrix"
   ]
  },
  {
   "cell_type": "markdown",
   "metadata": {},
   "source": [
    "# EDA"
   ]
  },
  {
   "cell_type": "markdown",
   "metadata": {},
   "source": [
    "### Load Data"
   ]
  },
  {
   "cell_type": "code",
   "execution_count": 11,
   "metadata": {},
   "outputs": [],
   "source": [
    "df=pd.read_csv('car_data.csv')"
   ]
  },
  {
   "cell_type": "code",
   "execution_count": 18,
   "metadata": {},
   "outputs": [
    {
     "data": {
      "text/html": [
       "<div>\n",
       "<style scoped>\n",
       "    .dataframe tbody tr th:only-of-type {\n",
       "        vertical-align: middle;\n",
       "    }\n",
       "\n",
       "    .dataframe tbody tr th {\n",
       "        vertical-align: top;\n",
       "    }\n",
       "\n",
       "    .dataframe thead th {\n",
       "        text-align: right;\n",
       "    }\n",
       "</style>\n",
       "<table border=\"1\" class=\"dataframe\">\n",
       "  <thead>\n",
       "    <tr style=\"text-align: right;\">\n",
       "      <th></th>\n",
       "      <th>city_mpg</th>\n",
       "      <th>class</th>\n",
       "      <th>combination_mpg</th>\n",
       "      <th>cylinders</th>\n",
       "      <th>displacement</th>\n",
       "      <th>drive</th>\n",
       "      <th>fuel_type</th>\n",
       "      <th>highway_mpg</th>\n",
       "      <th>make</th>\n",
       "      <th>model</th>\n",
       "      <th>transmission</th>\n",
       "      <th>year</th>\n",
       "    </tr>\n",
       "  </thead>\n",
       "  <tbody>\n",
       "    <tr>\n",
       "      <th>0</th>\n",
       "      <td>25</td>\n",
       "      <td>midsize car</td>\n",
       "      <td>29</td>\n",
       "      <td>4.0</td>\n",
       "      <td>2.5</td>\n",
       "      <td>fwd</td>\n",
       "      <td>gas</td>\n",
       "      <td>36</td>\n",
       "      <td>mazda</td>\n",
       "      <td>6</td>\n",
       "      <td>m</td>\n",
       "      <td>2014</td>\n",
       "    </tr>\n",
       "    <tr>\n",
       "      <th>1</th>\n",
       "      <td>26</td>\n",
       "      <td>midsize car</td>\n",
       "      <td>30</td>\n",
       "      <td>4.0</td>\n",
       "      <td>2.5</td>\n",
       "      <td>fwd</td>\n",
       "      <td>gas</td>\n",
       "      <td>37</td>\n",
       "      <td>mazda</td>\n",
       "      <td>6</td>\n",
       "      <td>a</td>\n",
       "      <td>2014</td>\n",
       "    </tr>\n",
       "    <tr>\n",
       "      <th>2</th>\n",
       "      <td>25</td>\n",
       "      <td>small sport utility vehicle</td>\n",
       "      <td>27</td>\n",
       "      <td>4.0</td>\n",
       "      <td>2.5</td>\n",
       "      <td>fwd</td>\n",
       "      <td>gas</td>\n",
       "      <td>31</td>\n",
       "      <td>mazda</td>\n",
       "      <td>cx-5 2wd</td>\n",
       "      <td>a</td>\n",
       "      <td>2014</td>\n",
       "    </tr>\n",
       "    <tr>\n",
       "      <th>3</th>\n",
       "      <td>26</td>\n",
       "      <td>small sport utility vehicle</td>\n",
       "      <td>29</td>\n",
       "      <td>4.0</td>\n",
       "      <td>2.0</td>\n",
       "      <td>fwd</td>\n",
       "      <td>gas</td>\n",
       "      <td>34</td>\n",
       "      <td>mazda</td>\n",
       "      <td>cx-5 2wd</td>\n",
       "      <td>m</td>\n",
       "      <td>2014</td>\n",
       "    </tr>\n",
       "    <tr>\n",
       "      <th>4</th>\n",
       "      <td>26</td>\n",
       "      <td>small sport utility vehicle</td>\n",
       "      <td>28</td>\n",
       "      <td>4.0</td>\n",
       "      <td>2.0</td>\n",
       "      <td>fwd</td>\n",
       "      <td>gas</td>\n",
       "      <td>32</td>\n",
       "      <td>mazda</td>\n",
       "      <td>cx-5 2wd</td>\n",
       "      <td>a</td>\n",
       "      <td>2014</td>\n",
       "    </tr>\n",
       "  </tbody>\n",
       "</table>\n",
       "</div>"
      ],
      "text/plain": [
       "   city_mpg                        class  combination_mpg  cylinders  \\\n",
       "0        25                  midsize car               29        4.0   \n",
       "1        26                  midsize car               30        4.0   \n",
       "2        25  small sport utility vehicle               27        4.0   \n",
       "3        26  small sport utility vehicle               29        4.0   \n",
       "4        26  small sport utility vehicle               28        4.0   \n",
       "\n",
       "   displacement drive fuel_type  highway_mpg   make     model transmission  \\\n",
       "0           2.5   fwd       gas           36  mazda         6            m   \n",
       "1           2.5   fwd       gas           37  mazda         6            a   \n",
       "2           2.5   fwd       gas           31  mazda  cx-5 2wd            a   \n",
       "3           2.0   fwd       gas           34  mazda  cx-5 2wd            m   \n",
       "4           2.0   fwd       gas           32  mazda  cx-5 2wd            a   \n",
       "\n",
       "   year  \n",
       "0  2014  \n",
       "1  2014  \n",
       "2  2014  \n",
       "3  2014  \n",
       "4  2014  "
      ]
     },
     "execution_count": 18,
     "metadata": {},
     "output_type": "execute_result"
    }
   ],
   "source": [
    "df.head()"
   ]
  },
  {
   "cell_type": "code",
   "execution_count": 12,
   "metadata": {},
   "outputs": [
    {
     "name": "stdout",
     "output_type": "stream",
     "text": [
      "<class 'pandas.core.frame.DataFrame'>\n",
      "RangeIndex: 550 entries, 0 to 549\n",
      "Data columns (total 12 columns):\n",
      " #   Column           Non-Null Count  Dtype  \n",
      "---  ------           --------------  -----  \n",
      " 0   city_mpg         550 non-null    int64  \n",
      " 1   class            550 non-null    object \n",
      " 2   combination_mpg  550 non-null    int64  \n",
      " 3   cylinders        548 non-null    float64\n",
      " 4   displacement     548 non-null    float64\n",
      " 5   drive            550 non-null    object \n",
      " 6   fuel_type        550 non-null    object \n",
      " 7   highway_mpg      550 non-null    int64  \n",
      " 8   make             550 non-null    object \n",
      " 9   model            550 non-null    object \n",
      " 10  transmission     550 non-null    object \n",
      " 11  year             550 non-null    int64  \n",
      "dtypes: float64(2), int64(4), object(6)\n",
      "memory usage: 51.7+ KB\n"
     ]
    }
   ],
   "source": [
    "df.info()"
   ]
  },
  {
   "cell_type": "markdown",
   "metadata": {},
   "source": [
    "### Statistical Analysis\n"
   ]
  },
  {
   "cell_type": "code",
   "execution_count": 13,
   "metadata": {},
   "outputs": [
    {
     "data": {
      "text/html": [
       "<div>\n",
       "<style scoped>\n",
       "    .dataframe tbody tr th:only-of-type {\n",
       "        vertical-align: middle;\n",
       "    }\n",
       "\n",
       "    .dataframe tbody tr th {\n",
       "        vertical-align: top;\n",
       "    }\n",
       "\n",
       "    .dataframe thead th {\n",
       "        text-align: right;\n",
       "    }\n",
       "</style>\n",
       "<table border=\"1\" class=\"dataframe\">\n",
       "  <thead>\n",
       "    <tr style=\"text-align: right;\">\n",
       "      <th></th>\n",
       "      <th>city_mpg</th>\n",
       "      <th>combination_mpg</th>\n",
       "      <th>cylinders</th>\n",
       "      <th>displacement</th>\n",
       "      <th>highway_mpg</th>\n",
       "      <th>year</th>\n",
       "    </tr>\n",
       "  </thead>\n",
       "  <tbody>\n",
       "    <tr>\n",
       "      <th>count</th>\n",
       "      <td>550.000000</td>\n",
       "      <td>550.000000</td>\n",
       "      <td>548.000000</td>\n",
       "      <td>548.000000</td>\n",
       "      <td>550.000000</td>\n",
       "      <td>550.000000</td>\n",
       "    </tr>\n",
       "    <tr>\n",
       "      <th>mean</th>\n",
       "      <td>21.460000</td>\n",
       "      <td>24.069091</td>\n",
       "      <td>5.315693</td>\n",
       "      <td>2.931752</td>\n",
       "      <td>28.609091</td>\n",
       "      <td>2019.000000</td>\n",
       "    </tr>\n",
       "    <tr>\n",
       "      <th>std</th>\n",
       "      <td>8.147392</td>\n",
       "      <td>7.478369</td>\n",
       "      <td>1.759999</td>\n",
       "      <td>1.248419</td>\n",
       "      <td>6.832228</td>\n",
       "      <td>3.165156</td>\n",
       "    </tr>\n",
       "    <tr>\n",
       "      <th>min</th>\n",
       "      <td>11.000000</td>\n",
       "      <td>14.000000</td>\n",
       "      <td>3.000000</td>\n",
       "      <td>1.200000</td>\n",
       "      <td>18.000000</td>\n",
       "      <td>2014.000000</td>\n",
       "    </tr>\n",
       "    <tr>\n",
       "      <th>25%</th>\n",
       "      <td>17.000000</td>\n",
       "      <td>20.000000</td>\n",
       "      <td>4.000000</td>\n",
       "      <td>2.000000</td>\n",
       "      <td>24.000000</td>\n",
       "      <td>2016.000000</td>\n",
       "    </tr>\n",
       "    <tr>\n",
       "      <th>50%</th>\n",
       "      <td>20.000000</td>\n",
       "      <td>23.000000</td>\n",
       "      <td>4.000000</td>\n",
       "      <td>2.500000</td>\n",
       "      <td>28.000000</td>\n",
       "      <td>2019.000000</td>\n",
       "    </tr>\n",
       "    <tr>\n",
       "      <th>75%</th>\n",
       "      <td>24.000000</td>\n",
       "      <td>27.000000</td>\n",
       "      <td>6.000000</td>\n",
       "      <td>3.500000</td>\n",
       "      <td>32.000000</td>\n",
       "      <td>2022.000000</td>\n",
       "    </tr>\n",
       "    <tr>\n",
       "      <th>max</th>\n",
       "      <td>126.000000</td>\n",
       "      <td>112.000000</td>\n",
       "      <td>12.000000</td>\n",
       "      <td>6.800000</td>\n",
       "      <td>102.000000</td>\n",
       "      <td>2024.000000</td>\n",
       "    </tr>\n",
       "  </tbody>\n",
       "</table>\n",
       "</div>"
      ],
      "text/plain": [
       "         city_mpg  combination_mpg   cylinders  displacement  highway_mpg  \\\n",
       "count  550.000000       550.000000  548.000000    548.000000   550.000000   \n",
       "mean    21.460000        24.069091    5.315693      2.931752    28.609091   \n",
       "std      8.147392         7.478369    1.759999      1.248419     6.832228   \n",
       "min     11.000000        14.000000    3.000000      1.200000    18.000000   \n",
       "25%     17.000000        20.000000    4.000000      2.000000    24.000000   \n",
       "50%     20.000000        23.000000    4.000000      2.500000    28.000000   \n",
       "75%     24.000000        27.000000    6.000000      3.500000    32.000000   \n",
       "max    126.000000       112.000000   12.000000      6.800000   102.000000   \n",
       "\n",
       "              year  \n",
       "count   550.000000  \n",
       "mean   2019.000000  \n",
       "std       3.165156  \n",
       "min    2014.000000  \n",
       "25%    2016.000000  \n",
       "50%    2019.000000  \n",
       "75%    2022.000000  \n",
       "max    2024.000000  "
      ]
     },
     "execution_count": 13,
     "metadata": {},
     "output_type": "execute_result"
    }
   ],
   "source": [
    "df.describe()"
   ]
  },
  {
   "cell_type": "code",
   "execution_count": 14,
   "metadata": {},
   "outputs": [
    {
     "data": {
      "text/plain": [
       "city_mpg           0\n",
       "class              0\n",
       "combination_mpg    0\n",
       "cylinders          2\n",
       "displacement       2\n",
       "drive              0\n",
       "fuel_type          0\n",
       "highway_mpg        0\n",
       "make               0\n",
       "model              0\n",
       "transmission       0\n",
       "year               0\n",
       "dtype: int64"
      ]
     },
     "execution_count": 14,
     "metadata": {},
     "output_type": "execute_result"
    }
   ],
   "source": [
    "df.isnull().sum()"
   ]
  },
  {
   "cell_type": "code",
   "execution_count": 15,
   "metadata": {},
   "outputs": [],
   "source": [
    "imputer = SimpleImputer(strategy='mean')\n",
    "df[['cylinders', 'displacement']] = imputer.fit_transform(df[['cylinders', 'displacement']])"
   ]
  },
  {
   "cell_type": "markdown",
   "metadata": {},
   "source": [
    "Apply One-Hot Encoding to categorical columns"
   ]
  },
  {
   "cell_type": "code",
   "execution_count": 16,
   "metadata": {},
   "outputs": [],
   "source": [
    "df_encoded = pd.get_dummies(df, drop_first=True)"
   ]
  },
  {
   "cell_type": "markdown",
   "metadata": {},
   "source": [
    "Calculate the correlation matrix for the encoded datase"
   ]
  },
  {
   "cell_type": "code",
   "execution_count": 17,
   "metadata": {},
   "outputs": [
    {
     "data": {
      "text/html": [
       "<div>\n",
       "<style scoped>\n",
       "    .dataframe tbody tr th:only-of-type {\n",
       "        vertical-align: middle;\n",
       "    }\n",
       "\n",
       "    .dataframe tbody tr th {\n",
       "        vertical-align: top;\n",
       "    }\n",
       "\n",
       "    .dataframe thead th {\n",
       "        text-align: right;\n",
       "    }\n",
       "</style>\n",
       "<table border=\"1\" class=\"dataframe\">\n",
       "  <thead>\n",
       "    <tr style=\"text-align: right;\">\n",
       "      <th></th>\n",
       "      <th>city_mpg</th>\n",
       "      <th>combination_mpg</th>\n",
       "      <th>cylinders</th>\n",
       "      <th>displacement</th>\n",
       "      <th>highway_mpg</th>\n",
       "      <th>year</th>\n",
       "      <th>class_large car</th>\n",
       "      <th>class_midsize car</th>\n",
       "      <th>class_midsize station wagon</th>\n",
       "      <th>class_minicompact car</th>\n",
       "      <th>...</th>\n",
       "      <th>model_xj</th>\n",
       "      <th>model_xjl</th>\n",
       "      <th>model_xt5</th>\n",
       "      <th>model_xt5 awd</th>\n",
       "      <th>model_yukon c1500 2wd</th>\n",
       "      <th>model_yukon c1500 xl 2wd</th>\n",
       "      <th>model_yukon k1500 4wd</th>\n",
       "      <th>model_yukon k1500 xl 4wd</th>\n",
       "      <th>model_z4 sdrive28i</th>\n",
       "      <th>transmission_m</th>\n",
       "    </tr>\n",
       "  </thead>\n",
       "  <tbody>\n",
       "    <tr>\n",
       "      <th>city_mpg</th>\n",
       "      <td>1.000000</td>\n",
       "      <td>0.991671</td>\n",
       "      <td>-0.472787</td>\n",
       "      <td>-0.482001</td>\n",
       "      <td>0.944696</td>\n",
       "      <td>0.100795</td>\n",
       "      <td>-0.077899</td>\n",
       "      <td>0.051941</td>\n",
       "      <td>-0.014546</td>\n",
       "      <td>0.079655</td>\n",
       "      <td>...</td>\n",
       "      <td>-0.033871</td>\n",
       "      <td>-0.033871</td>\n",
       "      <td>-0.012898</td>\n",
       "      <td>-0.018141</td>\n",
       "      <td>-0.044233</td>\n",
       "      <td>-0.044233</td>\n",
       "      <td>-0.047944</td>\n",
       "      <td>-0.051655</td>\n",
       "      <td>0.002831</td>\n",
       "      <td>0.026095</td>\n",
       "    </tr>\n",
       "    <tr>\n",
       "      <th>combination_mpg</th>\n",
       "      <td>0.991671</td>\n",
       "      <td>1.000000</td>\n",
       "      <td>-0.527739</td>\n",
       "      <td>-0.537082</td>\n",
       "      <td>0.974735</td>\n",
       "      <td>0.105272</td>\n",
       "      <td>-0.079931</td>\n",
       "      <td>0.072849</td>\n",
       "      <td>-0.012687</td>\n",
       "      <td>0.099745</td>\n",
       "      <td>...</td>\n",
       "      <td>-0.034668</td>\n",
       "      <td>-0.034668</td>\n",
       "      <td>-0.011819</td>\n",
       "      <td>-0.017531</td>\n",
       "      <td>-0.053115</td>\n",
       "      <td>-0.053115</td>\n",
       "      <td>-0.057158</td>\n",
       "      <td>-0.057158</td>\n",
       "      <td>0.011030</td>\n",
       "      <td>0.057285</td>\n",
       "    </tr>\n",
       "    <tr>\n",
       "      <th>cylinders</th>\n",
       "      <td>-0.472787</td>\n",
       "      <td>-0.527739</td>\n",
       "      <td>1.000000</td>\n",
       "      <td>0.940534</td>\n",
       "      <td>-0.551933</td>\n",
       "      <td>-0.203614</td>\n",
       "      <td>0.142488</td>\n",
       "      <td>-0.044694</td>\n",
       "      <td>-0.010866</td>\n",
       "      <td>-0.111514</td>\n",
       "      <td>...</td>\n",
       "      <td>0.065271</td>\n",
       "      <td>0.065271</td>\n",
       "      <td>0.016639</td>\n",
       "      <td>0.016639</td>\n",
       "      <td>0.092392</td>\n",
       "      <td>0.092392</td>\n",
       "      <td>0.092392</td>\n",
       "      <td>0.092392</td>\n",
       "      <td>-0.031992</td>\n",
       "      <td>-0.156855</td>\n",
       "    </tr>\n",
       "    <tr>\n",
       "      <th>displacement</th>\n",
       "      <td>-0.482001</td>\n",
       "      <td>-0.537082</td>\n",
       "      <td>0.940534</td>\n",
       "      <td>1.000000</td>\n",
       "      <td>-0.560472</td>\n",
       "      <td>-0.239384</td>\n",
       "      <td>0.141191</td>\n",
       "      <td>-0.037527</td>\n",
       "      <td>-0.020950</td>\n",
       "      <td>-0.123963</td>\n",
       "      <td>...</td>\n",
       "      <td>0.070900</td>\n",
       "      <td>0.070900</td>\n",
       "      <td>0.022908</td>\n",
       "      <td>0.022908</td>\n",
       "      <td>0.136751</td>\n",
       "      <td>0.136751</td>\n",
       "      <td>0.136751</td>\n",
       "      <td>0.136751</td>\n",
       "      <td>-0.031940</td>\n",
       "      <td>-0.144566</td>\n",
       "    </tr>\n",
       "    <tr>\n",
       "      <th>highway_mpg</th>\n",
       "      <td>0.944696</td>\n",
       "      <td>0.974735</td>\n",
       "      <td>-0.551933</td>\n",
       "      <td>-0.560472</td>\n",
       "      <td>1.000000</td>\n",
       "      <td>0.118513</td>\n",
       "      <td>-0.071745</td>\n",
       "      <td>0.112576</td>\n",
       "      <td>-0.018666</td>\n",
       "      <td>0.142064</td>\n",
       "      <td>...</td>\n",
       "      <td>-0.035070</td>\n",
       "      <td>-0.035070</td>\n",
       "      <td>-0.010061</td>\n",
       "      <td>-0.016313</td>\n",
       "      <td>-0.058492</td>\n",
       "      <td>-0.058492</td>\n",
       "      <td>-0.062918</td>\n",
       "      <td>-0.067343</td>\n",
       "      <td>0.021201</td>\n",
       "      <td>0.117156</td>\n",
       "    </tr>\n",
       "    <tr>\n",
       "      <th>...</th>\n",
       "      <td>...</td>\n",
       "      <td>...</td>\n",
       "      <td>...</td>\n",
       "      <td>...</td>\n",
       "      <td>...</td>\n",
       "      <td>...</td>\n",
       "      <td>...</td>\n",
       "      <td>...</td>\n",
       "      <td>...</td>\n",
       "      <td>...</td>\n",
       "      <td>...</td>\n",
       "      <td>...</td>\n",
       "      <td>...</td>\n",
       "      <td>...</td>\n",
       "      <td>...</td>\n",
       "      <td>...</td>\n",
       "      <td>...</td>\n",
       "      <td>...</td>\n",
       "      <td>...</td>\n",
       "      <td>...</td>\n",
       "      <td>...</td>\n",
       "    </tr>\n",
       "    <tr>\n",
       "      <th>model_yukon c1500 xl 2wd</th>\n",
       "      <td>-0.044233</td>\n",
       "      <td>-0.053115</td>\n",
       "      <td>0.092392</td>\n",
       "      <td>0.136751</td>\n",
       "      <td>-0.058492</td>\n",
       "      <td>-0.076416</td>\n",
       "      <td>-0.009400</td>\n",
       "      <td>-0.019728</td>\n",
       "      <td>-0.003650</td>\n",
       "      <td>-0.012037</td>\n",
       "      <td>...</td>\n",
       "      <td>-0.002578</td>\n",
       "      <td>-0.002578</td>\n",
       "      <td>-0.002578</td>\n",
       "      <td>-0.002578</td>\n",
       "      <td>-0.003650</td>\n",
       "      <td>1.000000</td>\n",
       "      <td>-0.003650</td>\n",
       "      <td>-0.003650</td>\n",
       "      <td>-0.002578</td>\n",
       "      <td>-0.025469</td>\n",
       "    </tr>\n",
       "    <tr>\n",
       "      <th>model_yukon k1500 4wd</th>\n",
       "      <td>-0.047944</td>\n",
       "      <td>-0.057158</td>\n",
       "      <td>0.092392</td>\n",
       "      <td>0.136751</td>\n",
       "      <td>-0.062918</td>\n",
       "      <td>-0.076416</td>\n",
       "      <td>-0.009400</td>\n",
       "      <td>-0.019728</td>\n",
       "      <td>-0.003650</td>\n",
       "      <td>-0.012037</td>\n",
       "      <td>...</td>\n",
       "      <td>-0.002578</td>\n",
       "      <td>-0.002578</td>\n",
       "      <td>-0.002578</td>\n",
       "      <td>-0.002578</td>\n",
       "      <td>-0.003650</td>\n",
       "      <td>-0.003650</td>\n",
       "      <td>1.000000</td>\n",
       "      <td>-0.003650</td>\n",
       "      <td>-0.002578</td>\n",
       "      <td>-0.025469</td>\n",
       "    </tr>\n",
       "    <tr>\n",
       "      <th>model_yukon k1500 xl 4wd</th>\n",
       "      <td>-0.051655</td>\n",
       "      <td>-0.057158</td>\n",
       "      <td>0.092392</td>\n",
       "      <td>0.136751</td>\n",
       "      <td>-0.067343</td>\n",
       "      <td>-0.076416</td>\n",
       "      <td>-0.009400</td>\n",
       "      <td>-0.019728</td>\n",
       "      <td>-0.003650</td>\n",
       "      <td>-0.012037</td>\n",
       "      <td>...</td>\n",
       "      <td>-0.002578</td>\n",
       "      <td>-0.002578</td>\n",
       "      <td>-0.002578</td>\n",
       "      <td>-0.002578</td>\n",
       "      <td>-0.003650</td>\n",
       "      <td>-0.003650</td>\n",
       "      <td>-0.003650</td>\n",
       "      <td>1.000000</td>\n",
       "      <td>-0.002578</td>\n",
       "      <td>-0.025469</td>\n",
       "    </tr>\n",
       "    <tr>\n",
       "      <th>model_z4 sdrive28i</th>\n",
       "      <td>0.002831</td>\n",
       "      <td>0.011030</td>\n",
       "      <td>-0.031992</td>\n",
       "      <td>-0.031940</td>\n",
       "      <td>0.021201</td>\n",
       "      <td>-0.040489</td>\n",
       "      <td>-0.006640</td>\n",
       "      <td>-0.013937</td>\n",
       "      <td>-0.002578</td>\n",
       "      <td>-0.008503</td>\n",
       "      <td>...</td>\n",
       "      <td>-0.001821</td>\n",
       "      <td>-0.001821</td>\n",
       "      <td>-0.001821</td>\n",
       "      <td>-0.001821</td>\n",
       "      <td>-0.002578</td>\n",
       "      <td>-0.002578</td>\n",
       "      <td>-0.002578</td>\n",
       "      <td>-0.002578</td>\n",
       "      <td>1.000000</td>\n",
       "      <td>-0.017993</td>\n",
       "    </tr>\n",
       "    <tr>\n",
       "      <th>transmission_m</th>\n",
       "      <td>0.026095</td>\n",
       "      <td>0.057285</td>\n",
       "      <td>-0.156855</td>\n",
       "      <td>-0.144566</td>\n",
       "      <td>0.117156</td>\n",
       "      <td>-0.080311</td>\n",
       "      <td>-0.065594</td>\n",
       "      <td>-0.034394</td>\n",
       "      <td>-0.025469</td>\n",
       "      <td>0.154548</td>\n",
       "      <td>...</td>\n",
       "      <td>-0.017993</td>\n",
       "      <td>-0.017993</td>\n",
       "      <td>-0.017993</td>\n",
       "      <td>-0.017993</td>\n",
       "      <td>-0.025469</td>\n",
       "      <td>-0.025469</td>\n",
       "      <td>-0.025469</td>\n",
       "      <td>-0.025469</td>\n",
       "      <td>-0.017993</td>\n",
       "      <td>1.000000</td>\n",
       "    </tr>\n",
       "  </tbody>\n",
       "</table>\n",
       "<p>329 rows × 329 columns</p>\n",
       "</div>"
      ],
      "text/plain": [
       "                          city_mpg  combination_mpg  cylinders  displacement  \\\n",
       "city_mpg                  1.000000         0.991671  -0.472787     -0.482001   \n",
       "combination_mpg           0.991671         1.000000  -0.527739     -0.537082   \n",
       "cylinders                -0.472787        -0.527739   1.000000      0.940534   \n",
       "displacement             -0.482001        -0.537082   0.940534      1.000000   \n",
       "highway_mpg               0.944696         0.974735  -0.551933     -0.560472   \n",
       "...                            ...              ...        ...           ...   \n",
       "model_yukon c1500 xl 2wd -0.044233        -0.053115   0.092392      0.136751   \n",
       "model_yukon k1500 4wd    -0.047944        -0.057158   0.092392      0.136751   \n",
       "model_yukon k1500 xl 4wd -0.051655        -0.057158   0.092392      0.136751   \n",
       "model_z4 sdrive28i        0.002831         0.011030  -0.031992     -0.031940   \n",
       "transmission_m            0.026095         0.057285  -0.156855     -0.144566   \n",
       "\n",
       "                          highway_mpg      year  class_large car  \\\n",
       "city_mpg                     0.944696  0.100795        -0.077899   \n",
       "combination_mpg              0.974735  0.105272        -0.079931   \n",
       "cylinders                   -0.551933 -0.203614         0.142488   \n",
       "displacement                -0.560472 -0.239384         0.141191   \n",
       "highway_mpg                  1.000000  0.118513        -0.071745   \n",
       "...                               ...       ...              ...   \n",
       "model_yukon c1500 xl 2wd    -0.058492 -0.076416        -0.009400   \n",
       "model_yukon k1500 4wd       -0.062918 -0.076416        -0.009400   \n",
       "model_yukon k1500 xl 4wd    -0.067343 -0.076416        -0.009400   \n",
       "model_z4 sdrive28i           0.021201 -0.040489        -0.006640   \n",
       "transmission_m               0.117156 -0.080311        -0.065594   \n",
       "\n",
       "                          class_midsize car  class_midsize station wagon  \\\n",
       "city_mpg                           0.051941                    -0.014546   \n",
       "combination_mpg                    0.072849                    -0.012687   \n",
       "cylinders                         -0.044694                    -0.010866   \n",
       "displacement                      -0.037527                    -0.020950   \n",
       "highway_mpg                        0.112576                    -0.018666   \n",
       "...                                     ...                          ...   \n",
       "model_yukon c1500 xl 2wd          -0.019728                    -0.003650   \n",
       "model_yukon k1500 4wd             -0.019728                    -0.003650   \n",
       "model_yukon k1500 xl 4wd          -0.019728                    -0.003650   \n",
       "model_z4 sdrive28i                -0.013937                    -0.002578   \n",
       "transmission_m                    -0.034394                    -0.025469   \n",
       "\n",
       "                          class_minicompact car  ...  model_xj  model_xjl  \\\n",
       "city_mpg                               0.079655  ... -0.033871  -0.033871   \n",
       "combination_mpg                        0.099745  ... -0.034668  -0.034668   \n",
       "cylinders                             -0.111514  ...  0.065271   0.065271   \n",
       "displacement                          -0.123963  ...  0.070900   0.070900   \n",
       "highway_mpg                            0.142064  ... -0.035070  -0.035070   \n",
       "...                                         ...  ...       ...        ...   \n",
       "model_yukon c1500 xl 2wd              -0.012037  ... -0.002578  -0.002578   \n",
       "model_yukon k1500 4wd                 -0.012037  ... -0.002578  -0.002578   \n",
       "model_yukon k1500 xl 4wd              -0.012037  ... -0.002578  -0.002578   \n",
       "model_z4 sdrive28i                    -0.008503  ... -0.001821  -0.001821   \n",
       "transmission_m                         0.154548  ... -0.017993  -0.017993   \n",
       "\n",
       "                          model_xt5  model_xt5 awd  model_yukon c1500 2wd  \\\n",
       "city_mpg                  -0.012898      -0.018141              -0.044233   \n",
       "combination_mpg           -0.011819      -0.017531              -0.053115   \n",
       "cylinders                  0.016639       0.016639               0.092392   \n",
       "displacement               0.022908       0.022908               0.136751   \n",
       "highway_mpg               -0.010061      -0.016313              -0.058492   \n",
       "...                             ...            ...                    ...   \n",
       "model_yukon c1500 xl 2wd  -0.002578      -0.002578              -0.003650   \n",
       "model_yukon k1500 4wd     -0.002578      -0.002578              -0.003650   \n",
       "model_yukon k1500 xl 4wd  -0.002578      -0.002578              -0.003650   \n",
       "model_z4 sdrive28i        -0.001821      -0.001821              -0.002578   \n",
       "transmission_m            -0.017993      -0.017993              -0.025469   \n",
       "\n",
       "                          model_yukon c1500 xl 2wd  model_yukon k1500 4wd  \\\n",
       "city_mpg                                 -0.044233              -0.047944   \n",
       "combination_mpg                          -0.053115              -0.057158   \n",
       "cylinders                                 0.092392               0.092392   \n",
       "displacement                              0.136751               0.136751   \n",
       "highway_mpg                              -0.058492              -0.062918   \n",
       "...                                            ...                    ...   \n",
       "model_yukon c1500 xl 2wd                  1.000000              -0.003650   \n",
       "model_yukon k1500 4wd                    -0.003650               1.000000   \n",
       "model_yukon k1500 xl 4wd                 -0.003650              -0.003650   \n",
       "model_z4 sdrive28i                       -0.002578              -0.002578   \n",
       "transmission_m                           -0.025469              -0.025469   \n",
       "\n",
       "                          model_yukon k1500 xl 4wd  model_z4 sdrive28i  \\\n",
       "city_mpg                                 -0.051655            0.002831   \n",
       "combination_mpg                          -0.057158            0.011030   \n",
       "cylinders                                 0.092392           -0.031992   \n",
       "displacement                              0.136751           -0.031940   \n",
       "highway_mpg                              -0.067343            0.021201   \n",
       "...                                            ...                 ...   \n",
       "model_yukon c1500 xl 2wd                 -0.003650           -0.002578   \n",
       "model_yukon k1500 4wd                    -0.003650           -0.002578   \n",
       "model_yukon k1500 xl 4wd                  1.000000           -0.002578   \n",
       "model_z4 sdrive28i                       -0.002578            1.000000   \n",
       "transmission_m                           -0.025469           -0.017993   \n",
       "\n",
       "                          transmission_m  \n",
       "city_mpg                        0.026095  \n",
       "combination_mpg                 0.057285  \n",
       "cylinders                      -0.156855  \n",
       "displacement                   -0.144566  \n",
       "highway_mpg                     0.117156  \n",
       "...                                  ...  \n",
       "model_yukon c1500 xl 2wd       -0.025469  \n",
       "model_yukon k1500 4wd          -0.025469  \n",
       "model_yukon k1500 xl 4wd       -0.025469  \n",
       "model_z4 sdrive28i             -0.017993  \n",
       "transmission_m                  1.000000  \n",
       "\n",
       "[329 rows x 329 columns]"
      ]
     },
     "execution_count": 17,
     "metadata": {},
     "output_type": "execute_result"
    }
   ],
   "source": [
    "correlation_matrix_encoded = df_encoded.corr()\n",
    "correlation_matrix_encoded"
   ]
  },
  {
   "cell_type": "code",
   "execution_count": 19,
   "metadata": {},
   "outputs": [
    {
     "data": {
      "image/png": "[encoded data removed]",
      "text/plain": [
       "<Figure size 640x480 with 1 Axes>"
      ]
     },
     "metadata": {},
     "output_type": "display_data"
    }
   ],
   "source": [
    "# Distribution plot for city_mpg\n",
    "sns.histplot(df['city_mpg'], kde=True,color='skyblue')\n",
    "plt.title('Distribution of City MPG')\n",
    "plt.show()"
   ]
  },
  {
   "cell_type": "code",
   "execution_count": 20,
   "metadata": {},
   "outputs": [
    {
     "data": {
      "image/png": "[encoded data removed]",
      "text/plain": [
       "<Figure size 640x480 with 1 Axes>"
      ]
     },
     "metadata": {},
     "output_type": "display_data"
    }
   ],
   "source": [
    "# Distribution plot for cylinders\n",
    "sns.histplot(df['cylinders'], kde=True, color='lightgreen')\n",
    "plt.title('Distribution of Cylinders')\n",
    "plt.show()"
   ]
  },
  {
   "cell_type": "code",
   "execution_count": 21,
   "metadata": {},
   "outputs": [
    {
     "data": {
      "image/png": "[encoded data removed]",
      "text/plain": [
       "<Figure size 640x480 with 1 Axes>"
      ]
     },
     "metadata": {},
     "output_type": "display_data"
    }
   ],
   "source": [
    "# Distribution plot for displacement\n",
    "sns.histplot(df['displacement'], kde=True, color='salmon')\n",
    "plt.title('Distribution of Displacement')\n",
    "plt.show()"
   ]
  },
  {
   "cell_type": "markdown",
   "metadata": {},
   "source": [
    "# Predicting Fuel Efficiency"
   ]
  },
  {
   "cell_type": "code",
   "execution_count": 22,
   "metadata": {},
   "outputs": [],
   "source": [
    "X = df_encoded.drop('city_mpg', axis=1)\n",
    "y = df_encoded['city_mpg']"
   ]
  },
  {
   "cell_type": "markdown",
   "metadata": {},
   "source": [
    "Split the data into training and testing sets (80% training, 20% testing)"
   ]
  },
  {
   "cell_type": "code",
   "execution_count": 23,
   "metadata": {},
   "outputs": [],
   "source": [
    "X_train, X_test, y_train, y_test = train_test_split(X, y, test_size=0.2, random_state=42)"
   ]
  },
  {
   "cell_type": "markdown",
   "metadata": {},
   "source": [
    "Feature Scaling"
   ]
  },
  {
   "cell_type": "code",
   "execution_count": 24,
   "metadata": {},
   "outputs": [],
   "source": [
    "scaler = StandardScaler()\n",
    "X_train = scaler.fit_transform(X_train)\n",
    "X_test = scaler.transform(X_test)"
   ]
  },
  {
   "cell_type": "markdown",
   "metadata": {},
   "source": [
    "Random Forest"
   ]
  },
  {
   "cell_type": "code",
   "execution_count": 26,
   "metadata": {},
   "outputs": [
    {
     "data": {
      "text/html": [
       "<style>#sk-container-id-2 {color: black;}#sk-container-id-2 pre{padding: 0;}#sk-container-id-2 div.sk-toggleable {background-color: white;}#sk-container-id-2 label.sk-toggleable__label {cursor: pointer;display: block;width: 100%;margin-bottom: 0;padding: 0.3em;box-sizing: border-box;text-align: center;}#sk-container-id-2 label.sk-toggleable__label-arrow:before {content: \"▸\";float: left;margin-right: 0.25em;color: #696969;}#sk-container-id-2 label.sk-toggleable__label-arrow:hover:before {color: black;}#sk-container-id-2 div.sk-estimator:hover label.sk-toggleable__label-arrow:before {color: black;}#sk-container-id-2 div.sk-toggleable__content {max-height: 0;max-width: 0;overflow: hidden;text-align: left;background-color: #f0f8ff;}#sk-container-id-2 div.sk-toggleable__content pre {margin: 0.2em;color: black;border-radius: 0.25em;background-color: #f0f8ff;}#sk-container-id-2 input.sk-toggleable__control:checked~div.sk-toggleable__content {max-height: 200px;max-width: 100%;overflow: auto;}#sk-container-id-2 input.sk-toggleable__control:checked~label.sk-toggleable__label-arrow:before {content: \"▾\";}#sk-container-id-2 div.sk-estimator input.sk-toggleable__control:checked~label.sk-toggleable__label {background-color: #d4ebff;}#sk-container-id-2 div.sk-label input.sk-toggleable__control:checked~label.sk-toggleable__label {background-color: #d4ebff;}#sk-container-id-2 input.sk-hidden--visually {border: 0;clip: rect(1px 1px 1px 1px);clip: rect(1px, 1px, 1px, 1px);height: 1px;margin: -1px;overflow: hidden;padding: 0;position: absolute;width: 1px;}#sk-container-id-2 div.sk-estimator {font-family: monospace;background-color: #f0f8ff;border: 1px dotted black;border-radius: 0.25em;box-sizing: border-box;margin-bottom: 0.5em;}#sk-container-id-2 div.sk-estimator:hover {background-color: #d4ebff;}#sk-container-id-2 div.sk-parallel-item::after {content: \"\";width: 100%;border-bottom: 1px solid gray;flex-grow: 1;}#sk-container-id-2 div.sk-label:hover label.sk-toggleable__label {background-color: #d4ebff;}#sk-container-id-2 div.sk-serial::before {content: \"\";position: absolute;border-left: 1px solid gray;box-sizing: border-box;top: 0;bottom: 0;left: 50%;z-index: 0;}#sk-container-id-2 div.sk-serial {display: flex;flex-direction: column;align-items: center;background-color: white;padding-right: 0.2em;padding-left: 0.2em;position: relative;}#sk-container-id-2 div.sk-item {position: relative;z-index: 1;}#sk-container-id-2 div.sk-parallel {display: flex;align-items: stretch;justify-content: center;background-color: white;position: relative;}#sk-container-id-2 div.sk-item::before, #sk-container-id-2 div.sk-parallel-item::before {content: \"\";position: absolute;border-left: 1px solid gray;box-sizing: border-box;top: 0;bottom: 0;left: 50%;z-index: -1;}#sk-container-id-2 div.sk-parallel-item {display: flex;flex-direction: column;z-index: 1;position: relative;background-color: white;}#sk-container-id-2 div.sk-parallel-item:first-child::after {align-self: flex-end;width: 50%;}#sk-container-id-2 div.sk-parallel-item:last-child::after {align-self: flex-start;width: 50%;}#sk-container-id-2 div.sk-parallel-item:only-child::after {width: 0;}#sk-container-id-2 div.sk-dashed-wrapped {border: 1px dashed gray;margin: 0 0.4em 0.5em 0.4em;box-sizing: border-box;padding-bottom: 0.4em;background-color: white;}#sk-container-id-2 div.sk-label label {font-family: monospace;font-weight: bold;display: inline-block;line-height: 1.2em;}#sk-container-id-2 div.sk-label-container {text-align: center;}#sk-container-id-2 div.sk-container {/* jupyter's `normalize.less` sets `[hidden] { display: none; }` but bootstrap.min.css set `[hidden] { display: none !important; }` so we also need the `!important` here to be able to override the default hidden behavior on the sphinx rendered scikit-learn.org. See: https://github.com/scikit-learn/scikit-learn/issues/21755 */display: inline-block !important;position: relative;}#sk-container-id-2 div.sk-text-repr-fallback {display: none;}</style><div id=\"sk-container-id-2\" class=\"sk-top-container\"><div class=\"sk-text-repr-fallback\"><pre>RandomForestClassifier(random_state=42)</pre><b>In a Jupyter environment, please rerun this cell to show the HTML representation or trust the notebook. <br />On GitHub, the HTML representation is unable to render, please try loading this page with nbviewer.org.</b></div><div class=\"sk-container\" hidden><div class=\"sk-item\"><div class=\"sk-estimator sk-toggleable\"><input class=\"sk-toggleable__control sk-hidden--visually\" id=\"sk-estimator-id-2\" type=\"checkbox\" checked><label for=\"sk-estimator-id-2\" class=\"sk-toggleable__label sk-toggleable__label-arrow\">RandomForestClassifier</label><div class=\"sk-toggleable__content\"><pre>RandomForestClassifier(random_state=42)</pre></div></div></div></div></div>"
      ],
      "text/plain": [
       "RandomForestClassifier(random_state=42)"
      ]
     },
     "execution_count": 26,
     "metadata": {},
     "output_type": "execute_result"
    }
   ],
   "source": [
    "rf_model = RandomForestClassifier(random_state=42)\n",
    "rf_model.fit(X_train, y_train)"
   ]
  },
  {
   "cell_type": "markdown",
   "metadata": {},
   "source": [
    "Predict and evaluate (rf_model)"
   ]
  },
  {
   "cell_type": "code",
   "execution_count": 27,
   "metadata": {},
   "outputs": [
    {
     "name": "stdout",
     "output_type": "stream",
     "text": [
      "Random Forest Accuracy: 56.36\n"
     ]
    }
   ],
   "source": [
    "rf_predictions = rf_model.predict(X_test)\n",
    "rf_accuracy = accuracy_score(y_test, rf_predictions)\n",
    "\n",
    "print(f\"Random Forest Accuracy: {rf_accuracy*100:.2f}\")"
   ]
  },
  {
   "cell_type": "markdown",
   "metadata": {},
   "source": [
    "Gradient Boost"
   ]
  },
  {
   "cell_type": "code",
   "execution_count": 28,
   "metadata": {},
   "outputs": [
    {
     "data": {
      "text/html": [
       "<style>#sk-container-id-3 {color: black;}#sk-container-id-3 pre{padding: 0;}#sk-container-id-3 div.sk-toggleable {background-color: white;}#sk-container-id-3 label.sk-toggleable__label {cursor: pointer;display: block;width: 100%;margin-bottom: 0;padding: 0.3em;box-sizing: border-box;text-align: center;}#sk-container-id-3 label.sk-toggleable__label-arrow:before {content: \"▸\";float: left;margin-right: 0.25em;color: #696969;}#sk-container-id-3 label.sk-toggleable__label-arrow:hover:before {color: black;}#sk-container-id-3 div.sk-estimator:hover label.sk-toggleable__label-arrow:before {color: black;}#sk-container-id-3 div.sk-toggleable__content {max-height: 0;max-width: 0;overflow: hidden;text-align: left;background-color: #f0f8ff;}#sk-container-id-3 div.sk-toggleable__content pre {margin: 0.2em;color: black;border-radius: 0.25em;background-color: #f0f8ff;}#sk-container-id-3 input.sk-toggleable__control:checked~div.sk-toggleable__content {max-height: 200px;max-width: 100%;overflow: auto;}#sk-container-id-3 input.sk-toggleable__control:checked~label.sk-toggleable__label-arrow:before {content: \"▾\";}#sk-container-id-3 div.sk-estimator input.sk-toggleable__control:checked~label.sk-toggleable__label {background-color: #d4ebff;}#sk-container-id-3 div.sk-label input.sk-toggleable__control:checked~label.sk-toggleable__label {background-color: #d4ebff;}#sk-container-id-3 input.sk-hidden--visually {border: 0;clip: rect(1px 1px 1px 1px);clip: rect(1px, 1px, 1px, 1px);height: 1px;margin: -1px;overflow: hidden;padding: 0;position: absolute;width: 1px;}#sk-container-id-3 div.sk-estimator {font-family: monospace;background-color: #f0f8ff;border: 1px dotted black;border-radius: 0.25em;box-sizing: border-box;margin-bottom: 0.5em;}#sk-container-id-3 div.sk-estimator:hover {background-color: #d4ebff;}#sk-container-id-3 div.sk-parallel-item::after {content: \"\";width: 100%;border-bottom: 1px solid gray;flex-grow: 1;}#sk-container-id-3 div.sk-label:hover label.sk-toggleable__label {background-color: #d4ebff;}#sk-container-id-3 div.sk-serial::before {content: \"\";position: absolute;border-left: 1px solid gray;box-sizing: border-box;top: 0;bottom: 0;left: 50%;z-index: 0;}#sk-container-id-3 div.sk-serial {display: flex;flex-direction: column;align-items: center;background-color: white;padding-right: 0.2em;padding-left: 0.2em;position: relative;}#sk-container-id-3 div.sk-item {position: relative;z-index: 1;}#sk-container-id-3 div.sk-parallel {display: flex;align-items: stretch;justify-content: center;background-color: white;position: relative;}#sk-container-id-3 div.sk-item::before, #sk-container-id-3 div.sk-parallel-item::before {content: \"\";position: absolute;border-left: 1px solid gray;box-sizing: border-box;top: 0;bottom: 0;left: 50%;z-index: -1;}#sk-container-id-3 div.sk-parallel-item {display: flex;flex-direction: column;z-index: 1;position: relative;background-color: white;}#sk-container-id-3 div.sk-parallel-item:first-child::after {align-self: flex-end;width: 50%;}#sk-container-id-3 div.sk-parallel-item:last-child::after {align-self: flex-start;width: 50%;}#sk-container-id-3 div.sk-parallel-item:only-child::after {width: 0;}#sk-container-id-3 div.sk-dashed-wrapped {border: 1px dashed gray;margin: 0 0.4em 0.5em 0.4em;box-sizing: border-box;padding-bottom: 0.4em;background-color: white;}#sk-container-id-3 div.sk-label label {font-family: monospace;font-weight: bold;display: inline-block;line-height: 1.2em;}#sk-container-id-3 div.sk-label-container {text-align: center;}#sk-container-id-3 div.sk-container {/* jupyter's `normalize.less` sets `[hidden] { display: none; }` but bootstrap.min.css set `[hidden] { display: none !important; }` so we also need the `!important` here to be able to override the default hidden behavior on the sphinx rendered scikit-learn.org. See: https://github.com/scikit-learn/scikit-learn/issues/21755 */display: inline-block !important;position: relative;}#sk-container-id-3 div.sk-text-repr-fallback {display: none;}</style><div id=\"sk-container-id-3\" class=\"sk-top-container\"><div class=\"sk-text-repr-fallback\"><pre>GradientBoostingClassifier(random_state=42)</pre><b>In a Jupyter environment, please rerun this cell to show the HTML representation or trust the notebook. <br />On GitHub, the HTML representation is unable to render, please try loading this page with nbviewer.org.</b></div><div class=\"sk-container\" hidden><div class=\"sk-item\"><div class=\"sk-estimator sk-toggleable\"><input class=\"sk-toggleable__control sk-hidden--visually\" id=\"sk-estimator-id-3\" type=\"checkbox\" checked><label for=\"sk-estimator-id-3\" class=\"sk-toggleable__label sk-toggleable__label-arrow\">GradientBoostingClassifier</label><div class=\"sk-toggleable__content\"><pre>GradientBoostingClassifier(random_state=42)</pre></div></div></div></div></div>"
      ],
      "text/plain": [
       "GradientBoostingClassifier(random_state=42)"
      ]
     },
     "execution_count": 28,
     "metadata": {},
     "output_type": "execute_result"
    }
   ],
   "source": [
    "gb_model = GradientBoostingClassifier(random_state=42)\n",
    "gb_model.fit(X_train, y_train)"
   ]
  },
  {
   "cell_type": "markdown",
   "metadata": {},
   "source": [
    "Predict and evaluate (gb_model)"
   ]
  },
  {
   "cell_type": "code",
   "execution_count": 29,
   "metadata": {},
   "outputs": [
    {
     "name": "stdout",
     "output_type": "stream",
     "text": [
      "Accuracy: 60.91\n"
     ]
    }
   ],
   "source": [
    "y_pred_gb = gb_model.predict(X_test)\n",
    "accuracy_gb = accuracy_score(y_test, y_pred_gb)\n",
    "print(f'Accuracy: {accuracy_gb*100:.2f}')"
   ]
  },
  {
   "cell_type": "markdown",
   "metadata": {},
   "source": [
    "CatBoost"
   ]
  },
  {
   "cell_type": "code",
   "execution_count": 30,
   "metadata": {},
   "outputs": [
    {
     "data": {
      "text/plain": [
       "<catboost.core.CatBoostClassifier at 0x1dc1aa66d10>"
      ]
     },
     "execution_count": 30,
     "metadata": {},
     "output_type": "execute_result"
    }
   ],
   "source": [
    "cat_model = CatBoostClassifier(random_seed=42, verbose=0)\n",
    "cat_model.fit(X_train, y_train)"
   ]
  },
  {
   "cell_type": "markdown",
   "metadata": {},
   "source": [
    "Predict and evaluate (cat_model)"
   ]
  },
  {
   "cell_type": "code",
   "execution_count": 31,
   "metadata": {},
   "outputs": [
    {
     "name": "stdout",
     "output_type": "stream",
     "text": [
      "Accuracy: 58.18\n"
     ]
    }
   ],
   "source": [
    "y_pred_cat = cat_model.predict(X_test)\n",
    "accuracy_cat = accuracy_score(y_test, y_pred_cat)\n",
    "print(f'Accuracy: {accuracy_cat*100:.2f}')"
   ]
  },
  {
   "cell_type": "markdown",
   "metadata": {},
   "source": [
    "Conclusion\n",
    "Our analysis of car efficiency predictions, specifically focusing on city miles per gallon (city_mpg), yielded insightful results when comparing three advanced machine learning models: Random Forest, Gradient Boosting, and CatBoost.\n",
    "\n",
    "Model Performance\n",
    "The accuracy metrics obtained are as follows:\n",
    "\n",
    "Random Forest: 56.36%\n",
    "Gradient Boosting: 60.91% (highest accuracy)\n",
    "CatBoost: 58.18%\n",
    "These results indicate that Gradient Boosting is the most effective model for predicting city_mpg in our dataset. Its superior performance can be attributed to its ability to capture complex relationships within the data.\n",
    "\n",
    "Feature Scaling\n",
    "It is noteworthy that we applied feature scaling using StandardScaler to enhance model performance. This normalization of input features ensured a more effective learning process across all models.\n",
    "\n",
    "Comparative Analysis\n",
    "The comparative analysis demonstrates that while all three models provide valuable insights, the superior accuracy of Gradient Boosting makes it the preferred choice for stakeholders seeking reliable predictions of vehicle fuel efficiency in urban settings.\n",
    "\n",
    "Future Work¶\n",
    "To further enhance the models' performance, future work could explore:\n",
    "\n",
    "Hyperparameter tuning\n",
    "Additional feature engineering\n",
    "These steps could yield even more accurate predictions and valuable insights into car efficiency."
   ]
  },
  {
   "cell_type": "code",
   "execution_count": null,
   "metadata": {},
   "outputs": [],
   "source": []
  },
  {
   "cell_type": "code",
   "execution_count": null,
   "metadata": {},
   "outputs": [],
   "source": []
  }
 ],
 "metadata": {
  "kernelspec": {
   "display_name": "Python 3",
   "language": "python",
   "name": "python3"
  },
  "language_info": {
   "codemirror_mode": {
    "name": "ipython",
    "version": 3
   },
   "file_extension": ".py",
   "mimetype": "text/x-python",
   "name": "python",
   "nbconvert_exporter": "python",
   "pygments_lexer": "ipython3",
   "version": "3.11.9"
  }
 },
 "nbformat": 4,
 "nbformat_minor": 2
}
